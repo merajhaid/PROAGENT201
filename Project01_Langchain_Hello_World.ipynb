{
  "nbformat": 4,
  "nbformat_minor": 0,
  "metadata": {
    "colab": {
      "provenance": [],
      "authorship_tag": "ABX9TyOUmDY66DKUXLrRZJASeJ28",
      "include_colab_link": true
    },
    "kernelspec": {
      "name": "python3",
      "display_name": "Python 3"
    },
    "language_info": {
      "name": "python"
    }
  },
  "cells": [
    {
      "cell_type": "markdown",
      "metadata": {
        "id": "view-in-github",
        "colab_type": "text"
      },
      "source": [
        "<a href=\"https://colab.research.google.com/github/merajhaid/PROAGENT201/blob/main/Project01_Langchain_Hello_World.ipynb\" target=\"_parent\"><img src=\"https://colab.research.google.com/assets/colab-badge.svg\" alt=\"Open In Colab\"/></a>"
      ]
    },
    {
      "cell_type": "code",
      "execution_count": null,
      "metadata": {
        "colab": {
          "base_uri": "https://localhost:8080/"
        },
        "id": "pdMBqX67OBRl",
        "outputId": "cbf51bdd-1e8f-46bc-b979-a249dbf7773d"
      },
      "outputs": [
        {
          "output_type": "stream",
          "name": "stdout",
          "text": [
            "Answer: \n",
            "\n",
            " Transforming Pakistan's economy is a complex challenge with no single magic solution. It requires a multi-pronged approach addressing systemic issues and implementing sustainable policies. Here's a breakdown of key areas and potential strategies:\n",
            "\n",
            "**1. Strengthening Fiscal Management:**\n",
            "\n",
            "* **Tax Reforms:**\n",
            "    * **Broaden the Tax Base:** Bring more individuals and businesses into the tax net by simplifying procedures, reducing exemptions, and improving enforcement.\n",
            "    * **Increase Tax Collection Efficiency:** Combat tax evasion and corruption through technology, audits, and stricter penalties.\n",
            "    * **Implement a Progressive Tax System:** Ensure those with higher incomes contribute a larger share.\n",
            "* **Reduce Government Spending:**\n",
            "    * **Prioritize Essential Spending:** Focus on investments in education, healthcare, and infrastructure.\n",
            "    * **Cut Wasteful Expenditures:** Eliminate redundancies, reduce bureaucratic bloat, and improve procurement processes.\n",
            "    * **Control Debt:** Manage borrowing prudently and explore debt restructuring options.\n",
            "* **Increase Revenue Generation:**\n",
            "    * **Privatization:** Sell state-owned enterprises that are consistently losing money.\n",
            "    * **Exploration of Natural Resources:** Utilize Pakistan's mineral and energy resources responsibly and sustainably.\n",
            "\n",
            "**2. Boosting Exports and Trade:**\n",
            "\n",
            "* **Diversify Export Basket:** Move beyond traditional textile-based exports and explore new sectors like IT, software, pharmaceuticals, and processed agricultural goods.\n",
            "* **Improve Product Quality and Standards:** Invest in research and development, adopt international standards, and promote quality control.\n",
            "* **Enhance Export Competitiveness:** Offer incentives to exporters, reduce trade barriers, and provide access to credit.\n",
            "* **Negotiate Free Trade Agreements:** Secure access to new markets and reduce reliance on specific trading partners.\n",
            "* **Develop Export Infrastructure:** Improve port facilities, transportation networks, and logistics.\n",
            "\n",
            "**3. Fostering Investment and Entrepreneurship:**\n",
            "\n",
            "* **Improve the Business Environment:** Simplify regulations, reduce red tape, and ensure transparent and consistent policies.\n",
            "* **Attract Foreign Direct Investment (FDI):** Offer incentives, create special economic zones, and address concerns about security and political stability.\n",
            "* **Support Small and Medium-Sized Enterprises (SMEs):** Provide access to finance, training, and technology.\n",
            "* **Promote Innovation and Technology:** Invest in research and development, encourage technological adoption, and create a vibrant startup ecosystem.\n",
            "* **Develop a Skilled Workforce:** Invest in education, vocational training, and technical skills development.\n",
            "\n",
            "**4. Addressing Energy Crisis:**\n",
            "\n",
            "* **Increase Renewable Energy Production:** Invest in solar, wind, and hydro power to reduce reliance on fossil fuels and imported energy.\n",
            "* **Improve Energy Efficiency:** Promote energy conservation practices and invest in energy-efficient technologies.\n",
            "* **Reform the Power Sector:** Address issues of circular debt, improve transmission and distribution infrastructure, and ensure fair pricing.\n",
            "\n",
            "**5. Developing Human Capital:**\n",
            "\n",
            "* **Improve Education Quality:** Invest in teacher training, curriculum development, and access to quality education for all.\n",
            "* **Enhance Healthcare Access and Quality:** Improve public health infrastructure, ensure affordable healthcare, and promote preventive care.\n",
            "* **Promote Skills Development:** Invest in vocational training, technical skills, and lifelong learning opportunities.\n",
            "\n",
            "**6. Addressing Governance and Corruption:**\n",
            "\n",
            "* **Strengthen Institutions:** Ensure independence and accountability of government institutions.\n",
            "* **Combat Corruption:** Enforce anti-corruption laws, promote transparency, and hold officials accountable.\n",
            "* **Promote Rule of Law:** Ensure a fair and just legal system and protect property rights.\n",
            "\n",
            "**7. Promoting Agriculture:**\n",
            "\n",
            "* **Modernize Agricultural Practices:** Adopt advanced technologies, improve irrigation systems, and promote sustainable farming.\n",
            "* **Improve Access to Credit and Markets:** Provide farmers with access to finance and help them connect with markets.\n",
            "* **Increase Value Addition:** Promote agro-processing and food manufacturing industries.\n",
            "\n",
            "**Key Considerations for Successful Implementation:**\n",
            "\n",
            "* **Political Stability:** A stable political environment is crucial for attracting investment and implementing reforms.\n",
            "* **Long-Term Vision:** Reforms should be implemented with a long-term perspective and not be subject to frequent policy changes.\n",
            "* **Public Support:** Building consensus and garnering public support for reforms is essential for success.\n",
            "* **Effective Implementation:** Policies must be implemented effectively and monitored regularly.\n",
            "\n",
            "**In summary, transforming Pakistan's economy requires a holistic and sustained effort. It involves addressing fundamental issues related to fiscal management, trade, investment, energy, human capital, governance, and agriculture. The key is to implement well-designed policies with strong political will and public support, focusing on long-term sustainability and inclusive growth.**\n",
            "\n",
            "This is a complex and multifaceted issue, and the specifics of implementation would depend on the evolving context and the priorities of the Pakistani government and people. However, this provides a broad framework for thinking about how to effect positive change.\n",
            "\n"
          ]
        }
      ],
      "source": [
        "!pip -q install langchain_google_genai\n",
        "\n",
        "from langchain_google_genai import ChatGoogleGenerativeAI\n",
        "from langchain.prompts import PromptTemplate\n",
        "from langchain.chains import LLMChain\n",
        "from google.colab import userdata\n",
        "import os\n",
        "os.environ[\"GEMINI_API_KEY\"] = userdata.get(\"GEMINI_API_KEY\")\n",
        "\n",
        "llm = ChatGoogleGenerativeAI(\n",
        "    api_key= userdata.get(\"GEMINI_API_KEY\"),\n",
        "    model=\"gemini-2.0-flash-exp\",\n",
        "    temperature=0.9\n",
        ")\n",
        "\n",
        "prompt_template = PromptTemplate(\n",
        "    input_variables=[\"question\"],\n",
        "    template=\"You are a helpful assistant. Answer the following question:\\n\\n{question}\"\n",
        ")\n",
        "\n",
        "chain = LLMChain(llm=llm, prompt=prompt_template)\n",
        "\n",
        "question = \"How to change pakistan economy?\"\n",
        "response = chain.run({\"question\": question})\n",
        "print(\"Answer: \\n\\n\", response)"
      ]
    },
    {
      "cell_type": "code",
      "source": [],
      "metadata": {
        "id": "bq1q5WVkVDuJ"
      },
      "execution_count": null,
      "outputs": []
    }
  ]
}